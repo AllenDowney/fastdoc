{
 "cells": [
  {
   "cell_type": "markdown",
   "metadata": {},
   "source": [
    "# fastdoc\n",
    "\n",
    "> Create publication-quality books from Jupyter notebooks"
   ]
  },
  {
   "cell_type": "markdown",
   "metadata": {},
   "source": [
    "The output of `fastdoc` is an [asciidoc](https://asciidoc.org/) file for each input notebook. You can then use [asciidoctor](https://asciidoctor.org/) to convert that to HTML, DocBook, epub, mobi, and so forth."
   ]
  },
  {
   "cell_type": "markdown",
   "metadata": {},
   "source": [
    "## Install"
   ]
  },
  {
   "cell_type": "markdown",
   "metadata": {},
   "source": [
    "`pip install fastdoc` or `conda install fastdoc`"
   ]
  },
  {
   "cell_type": "markdown",
   "metadata": {},
   "source": [
    "## How to use"
   ]
  },
  {
   "cell_type": "markdown",
   "metadata": {},
   "source": [
    "Create notebooks in a folder called `book`. From that folder, run `fastdoc_convert_all` in your terminal. You'll find your exported asciidoc files and all images used in `../convert_book`. For a single notebook demonstrating all the features of `fastdoc`, see the `test/_test.ipynb` notebook. For a complete O'Reilly book written in this way, see [fastbook](https://github.com/fastai/fastbook/)."
   ]
  },
  {
   "cell_type": "code",
   "execution_count": null,
   "metadata": {},
   "outputs": [],
   "source": []
  }
 ],
 "metadata": {
  "kernelspec": {
   "display_name": "Python 3",
   "language": "python",
   "name": "python3"
  }
 },
 "nbformat": 4,
 "nbformat_minor": 2
}
